import streamlit as st
import pandas as pd
import matplotlib.pyplot as plt
import numpy as np
import plotly.graph_objects as go

df = pd.read_csv('NC23.csv')
df['HR%'] = df['HR'] / df['TB']

df1 = df.dropna()
labels = list(df1['선수명'])
values = list(df1['HR%'])

fig = go.Figure(data=[go.Pie(labels=labels, values=values, hole=.3)])

fig.update_layout(legend=dict(
    orientation="h",
))


st.plotly_chart(fig)
