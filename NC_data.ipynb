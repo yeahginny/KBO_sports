import pandas as pd
import matplotlib.pyplot as plt
import numpy as np
import plotly.graph_objects as go

df = pd.read_csv('NC23.csv')

df['HR%'] = df['HR'] / df['TB']
df1 = df.dropna()
df1

labels = list(df1['선수명'])
values = list(df1['HR%'])

# Use `hole` to create a donut-like pie chart
fig = go.Figure(data=[go.Pie(labels=labels, values=values, hole=.3)])

fig.update_layout(legend=dict(
    orientation="h",
))


fig.show()
