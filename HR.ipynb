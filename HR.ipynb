{
 "cells": [
  {
   "cell_type": "code",
   "execution_count": 1,
   "id": "6ce9ecea",
   "metadata": {},
   "outputs": [],
   "source": [
    "import pandas as pd\n",
    "import matplotlib.pyplot as plt\n",
    "from ipywidgets import interact_manual\n",
    "%matplotlib inline"
   ]
  },
  {
   "cell_type": "code",
   "execution_count": null,
   "id": "7e468bcf",
   "metadata": {},
   "outputs": [],
   "source": [
    "data = pd.read_csv(\"Regular_Season_Batter.csv\")"
   ]
  },
  {
   "cell_type": "code",
   "execution_count": null,
   "id": "07ae5336",
   "metadata": {},
   "outputs": [],
   "source": [
    "# 팀 선택 : NC\n",
    "data_NC = data.loc[data['team']=='NC'].reset_index(drop=True)"
   ]
  },
  {
   "cell_type": "code",
   "execution_count": null,
   "id": "9c97da2a",
   "metadata": {},
   "outputs": [],
   "source": [
    "data_NC['batter_name']"
   ]
  },
  {
   "cell_type": "code",
   "execution_count": 87,
   "id": "a1a33cd6",
   "metadata": {},
   "outputs": [
    {
     "data": {
      "application/vnd.jupyter.widget-view+json": {
       "model_id": "8acc8e898fec4cdcbca578bed2406364",
       "version_major": 2,
       "version_minor": 0
      },
      "text/plain": [
       "interactive(children=(Dropdown(description='player', options=('강구성', '강민국', '강진성', '권희동', '김성욱', '김종찬', '김종호',…"
      ]
     },
     "metadata": {},
     "output_type": "display_data"
    }
   ],
   "source": [
    "player_list = list(set(data_NC['batter_name'].values))\n",
    "year_list = list(set(data_NC['year'].values))\n",
    "player_list.sort()\n",
    "year_list.sort()\n",
    "\n",
    "@interact_manual(player=player_list, year=year_list)\n",
    "def draw_pie_chart(player, year):\n",
    "    try:\n",
    "        # 홈런 기여도 계산\n",
    "        data_NC_total_hr = data_NC.loc[data_NC['year']==year, 'HR'].sum()\n",
    "        data_NC_player_hr = data_NC.loc[(data_NC['year']==year) & (data_NC['batter_name']==player), 'HR']\n",
    "\n",
    "        # 색상 설정\n",
    "        colors =  [(49, 82, 136), (198, 159, 120)]\n",
    "\n",
    "        sizes = [data_NC_total_hr, data_NC_player_hr]\n",
    "        labels = ['전체 선수', player]\n",
    "\n",
    "        plt.figure(figsize=(4,4))\n",
    "        plt.pie(sizes,labels=labels, colors=colors, autopct='%1.1f%%',\n",
    "                startangle=90, wedgeprops={'edgecolor': 'white', 'width': 0.4, 'linewidth':1},\n",
    "                pctdistance=0.8)\n",
    "        plt.axis('equal')\n",
    "\n",
    "        # 차트 제목 추가\n",
    "        plt.title(f'{year}년도 팀 내 홈런 기여도 대비 {player} 홈런 기여도')\n",
    "\n",
    "        # 도넛 차트 출력\n",
    "        plt.show()\n",
    "        \n",
    "    except:\n",
    "        pass"
   ]
  },
  {
   "cell_type": "code",
   "execution_count": null,
   "id": "a1533914",
   "metadata": {},
   "outputs": [],
   "source": []
  }
 ],
 "metadata": {
  "kernelspec": {
   "display_name": "Python 3 (ipykernel)",
   "language": "python",
   "name": "python3"
  },
  "language_info": {
   "codemirror_mode": {
    "name": "ipython",
    "version": 3
   },
   "file_extension": ".py",
   "mimetype": "text/x-python",
   "name": "python",
   "nbconvert_exporter": "python",
   "pygments_lexer": "ipython3",
   "version": "3.11.3"
  },
  "vscode": {
   "interpreter": {
    "hash": "aee8b7b246df8f9039afb4144a1f6fd8d2ca17a180786b69acc140d282b71a49"
   }
  }
 },
 "nbformat": 4,
 "nbformat_minor": 5
}
